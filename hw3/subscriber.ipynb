{
 "cells": [
  {
   "cell_type": "code",
   "execution_count": 5,
   "metadata": {},
   "outputs": [],
   "source": [
    "import paho.mqtt.client as mqtt\n",
    "import redis\n",
    "import json\n",
    "import uuid"
   ]
  },
  {
   "cell_type": "code",
   "execution_count": null,
   "metadata": {},
   "outputs": [],
   "source": [
    "# cambia con la tua matricola\n",
    "topic = 's303903'"
   ]
  },
  {
   "cell_type": "code",
   "execution_count": 6,
   "metadata": {},
   "outputs": [],
   "source": [
    "REDIS_HOST = 'redis-10169.c311.eu-central-1-1.ec2.cloud.redislabs.com'\n",
    "REDIS_PORT = 10169\n",
    "REDIS_USER = 'default'\n",
    "REDIS_PASSWORD = '1nfOpBWy903d0oyagpUX7NrXNRYnwcTE'"
   ]
  },
  {
   "cell_type": "code",
   "execution_count": 8,
   "metadata": {},
   "outputs": [],
   "source": [
    "class RedisClient():\n",
    "    def __init__(self,host,port,username,password):\n",
    "        self.host = host\n",
    "        self.port = port\n",
    "        self.username = username\n",
    "        self.password = password\n",
    "        self.mac_address = hex(uuid.getnode())\n",
    "        self.redis_client = redis.Redis(host = self.host, port = self.port, username = self.username, password = self.password)\n",
    "\n",
    "\n",
    "    def is_connected(self):\n",
    "        is_connected = self.redis_client.ping()\n",
    "        print(f'Redis Connected: {is_connected} \\n')\n",
    "\n",
    "\n",
    "    def create_key(self, key_name, retention_time_ms = None):\n",
    "        try:\n",
    "            self.redis_client.ts().create(key_name, retention_msecs=retention_time_ms)\n",
    "        except redis.ResponseError:\n",
    "            pass\n",
    "\n",
    "    def add_ts_battery_data(self, message : str):\n",
    "        data = json.loads(message)\n",
    "        mac_address = data['mac_address']\n",
    "\n",
    "        for i in range(len(data['events'])):\n",
    "            dic = data['events'][i]\n",
    "            timestamp_ms = int(dic['timestamp'] * 1000)\n",
    "            battery = dic['battery_level']\n",
    "            power_plugged = dic['power_plugged']\n",
    "            self.redis_client.ts().add(f'{mac_address}:battery', timestamp_ms, battery)\n",
    "            self.redis_client.ts().add(f'{mac_address}:power', timestamp_ms, power_plugged)\n",
    "\n",
    "\n",
    "    "
   ]
  },
  {
   "cell_type": "code",
   "execution_count": 9,
   "metadata": {},
   "outputs": [
    {
     "name": "stdout",
     "output_type": "stream",
     "text": [
      "Redis Connected: True \n",
      "\n"
     ]
    }
   ],
   "source": [
    "client = mqtt.Client()\n",
    "redis_client = RedisClient(host=REDIS_HOST, port=REDIS_PORT, username=REDIS_USER, password=REDIS_PASSWORD)\n",
    "redis_client.is_connected()\n",
    "mac_address = redis_client.mac_address\n",
    "redis_client.create_key(f'{mac_address}:battery', retention_time_ms= 24 * 60 * 60 * 1000)\n",
    "redis_client.create_key(f'{mac_address}:power', retention_time_ms=24 * 60 * 60 * 1000)"
   ]
  },
  {
   "cell_type": "code",
   "execution_count": 10,
   "metadata": {},
   "outputs": [
    {
     "name": "stdout",
     "output_type": "stream",
     "text": [
      "Connected with result code 0\n",
      "Received {\"mac_address\": \"0xacde48001122\", \"events\": [{\"timestamp\": 1705932837645, \"battery_level\": 100, \"power_plugged\": 1}, {\"timestamp\": 1705932838648, \"battery_level\": 100, \"power_plugged\": 1}, {\"timestamp\": 1705932839651, \"battery_level\": 100, \"power_plugged\": 1}, {\"timestamp\": 1705932840656, \"battery_level\": 100, \"power_plugged\": 1}, {\"timestamp\": 1705932841660, \"battery_level\": 100, \"power_plugged\": 1}, {\"timestamp\": 1705932842666, \"battery_level\": 100, \"power_plugged\": 1}, {\"timestamp\": 1705932843671, \"battery_level\": 100, \"power_plugged\": 1}, {\"timestamp\": 1705932844676, \"battery_level\": 100, \"power_plugged\": 1}, {\"timestamp\": 1705932845680, \"battery_level\": 100, \"power_plugged\": 1}, {\"timestamp\": 1705932846684, \"battery_level\": 100, \"power_plugged\": 1}]} on topic s303903\n",
      "Received {\"mac_address\": \"0xacde48001122\", \"events\": [{\"timestamp\": 1705932847687, \"battery_level\": 100, \"power_plugged\": 1}, {\"timestamp\": 1705932848692, \"battery_level\": 100, \"power_plugged\": 1}, {\"timestamp\": 1705932849694, \"battery_level\": 100, \"power_plugged\": 1}, {\"timestamp\": 1705932850699, \"battery_level\": 100, \"power_plugged\": 1}, {\"timestamp\": 1705932851700, \"battery_level\": 100, \"power_plugged\": 1}, {\"timestamp\": 1705932852704, \"battery_level\": 100, \"power_plugged\": 1}, {\"timestamp\": 1705932853707, \"battery_level\": 100, \"power_plugged\": 1}, {\"timestamp\": 1705932854711, \"battery_level\": 100, \"power_plugged\": 1}, {\"timestamp\": 1705932855712, \"battery_level\": 100, \"power_plugged\": 1}, {\"timestamp\": 1705932856714, \"battery_level\": 100, \"power_plugged\": 1}]} on topic s303903\n"
     ]
    },
    {
     "ename": "KeyboardInterrupt",
     "evalue": "",
     "output_type": "error",
     "traceback": [
      "\u001b[0;31m---------------------------------------------------------------------------\u001b[0m",
      "\u001b[0;31mKeyboardInterrupt\u001b[0m                         Traceback (most recent call last)",
      "Cell \u001b[0;32mIn[10], line 16\u001b[0m\n\u001b[1;32m     12\u001b[0m client\u001b[38;5;241m.\u001b[39mon_message \u001b[38;5;241m=\u001b[39m on_message\n\u001b[1;32m     14\u001b[0m client\u001b[38;5;241m.\u001b[39mconnect(\u001b[38;5;124m'\u001b[39m\u001b[38;5;124mmqtt.eclipseprojects.io\u001b[39m\u001b[38;5;124m'\u001b[39m, \u001b[38;5;241m1883\u001b[39m)\n\u001b[0;32m---> 16\u001b[0m \u001b[43mclient\u001b[49m\u001b[38;5;241;43m.\u001b[39;49m\u001b[43mloop_forever\u001b[49m\u001b[43m(\u001b[49m\u001b[43m)\u001b[49m\n",
      "File \u001b[0;32m~/Desktop/Poli/Machine Learning for IoT/GitHub/ML4IOT_2023-2024/venv/lib/python3.10/site-packages/paho/mqtt/client.py:1756\u001b[0m, in \u001b[0;36mClient.loop_forever\u001b[0;34m(self, timeout, max_packets, retry_first_connection)\u001b[0m\n\u001b[1;32m   1754\u001b[0m rc \u001b[38;5;241m=\u001b[39m MQTT_ERR_SUCCESS\n\u001b[1;32m   1755\u001b[0m \u001b[38;5;28;01mwhile\u001b[39;00m rc \u001b[38;5;241m==\u001b[39m MQTT_ERR_SUCCESS:\n\u001b[0;32m-> 1756\u001b[0m     rc \u001b[38;5;241m=\u001b[39m \u001b[38;5;28;43mself\u001b[39;49m\u001b[38;5;241;43m.\u001b[39;49m\u001b[43m_loop\u001b[49m\u001b[43m(\u001b[49m\u001b[43mtimeout\u001b[49m\u001b[43m)\u001b[49m\n\u001b[1;32m   1757\u001b[0m     \u001b[38;5;66;03m# We don't need to worry about locking here, because we've\u001b[39;00m\n\u001b[1;32m   1758\u001b[0m     \u001b[38;5;66;03m# either called loop_forever() when in single threaded mode, or\u001b[39;00m\n\u001b[1;32m   1759\u001b[0m     \u001b[38;5;66;03m# in multi threaded mode when loop_stop() has been called and\u001b[39;00m\n\u001b[1;32m   1760\u001b[0m     \u001b[38;5;66;03m# so no other threads can access _out_packet or _messages.\u001b[39;00m\n\u001b[1;32m   1761\u001b[0m     \u001b[38;5;28;01mif\u001b[39;00m (\u001b[38;5;28mself\u001b[39m\u001b[38;5;241m.\u001b[39m_thread_terminate \u001b[38;5;129;01mis\u001b[39;00m \u001b[38;5;28;01mTrue\u001b[39;00m\n\u001b[1;32m   1762\u001b[0m         \u001b[38;5;129;01mand\u001b[39;00m \u001b[38;5;28mlen\u001b[39m(\u001b[38;5;28mself\u001b[39m\u001b[38;5;241m.\u001b[39m_out_packet) \u001b[38;5;241m==\u001b[39m \u001b[38;5;241m0\u001b[39m\n\u001b[1;32m   1763\u001b[0m             \u001b[38;5;129;01mand\u001b[39;00m \u001b[38;5;28mlen\u001b[39m(\u001b[38;5;28mself\u001b[39m\u001b[38;5;241m.\u001b[39m_out_messages) \u001b[38;5;241m==\u001b[39m \u001b[38;5;241m0\u001b[39m):\n",
      "File \u001b[0;32m~/Desktop/Poli/Machine Learning for IoT/GitHub/ML4IOT_2023-2024/venv/lib/python3.10/site-packages/paho/mqtt/client.py:1150\u001b[0m, in \u001b[0;36mClient._loop\u001b[0;34m(self, timeout)\u001b[0m\n\u001b[1;32m   1147\u001b[0m     rlist \u001b[38;5;241m=\u001b[39m [\u001b[38;5;28mself\u001b[39m\u001b[38;5;241m.\u001b[39m_sock, \u001b[38;5;28mself\u001b[39m\u001b[38;5;241m.\u001b[39m_sockpairR]\n\u001b[1;32m   1149\u001b[0m \u001b[38;5;28;01mtry\u001b[39;00m:\n\u001b[0;32m-> 1150\u001b[0m     socklist \u001b[38;5;241m=\u001b[39m \u001b[43mselect\u001b[49m\u001b[38;5;241;43m.\u001b[39;49m\u001b[43mselect\u001b[49m\u001b[43m(\u001b[49m\u001b[43mrlist\u001b[49m\u001b[43m,\u001b[49m\u001b[43m \u001b[49m\u001b[43mwlist\u001b[49m\u001b[43m,\u001b[49m\u001b[43m \u001b[49m\u001b[43m[\u001b[49m\u001b[43m]\u001b[49m\u001b[43m,\u001b[49m\u001b[43m \u001b[49m\u001b[43mtimeout\u001b[49m\u001b[43m)\u001b[49m\n\u001b[1;32m   1151\u001b[0m \u001b[38;5;28;01mexcept\u001b[39;00m \u001b[38;5;167;01mTypeError\u001b[39;00m:\n\u001b[1;32m   1152\u001b[0m     \u001b[38;5;66;03m# Socket isn't correct type, in likelihood connection is lost\u001b[39;00m\n\u001b[1;32m   1153\u001b[0m     \u001b[38;5;28;01mreturn\u001b[39;00m MQTT_ERR_CONN_LOST\n",
      "\u001b[0;31mKeyboardInterrupt\u001b[0m: "
     ]
    }
   ],
   "source": [
    "def on_connect(client: mqtt.Client, userdata, flags, rc):\n",
    "    print(f'Connected with result code {str(rc)}')\n",
    "    client.subscribe('s303903')\n",
    "\n",
    "def on_message(client, userdata, msg):\n",
    "    message = msg.payload.decode()\n",
    "    topic = msg.topic\n",
    "    redis_client.add_ts_battery_data(message)\n",
    "    print(f'Received {message} on topic {topic}')\n",
    "\n",
    "client.on_connect = on_connect\n",
    "client.on_message = on_message\n",
    "\n",
    "client.connect('mqtt.eclipseprojects.io', 1883)\n",
    "\n",
    "client.loop_forever()"
   ]
  },
  {
   "cell_type": "code",
   "execution_count": null,
   "metadata": {},
   "outputs": [],
   "source": []
  }
 ],
 "metadata": {
  "kernelspec": {
   "display_name": "venv",
   "language": "python",
   "name": "python3"
  },
  "language_info": {
   "codemirror_mode": {
    "name": "ipython",
    "version": 3
   },
   "file_extension": ".py",
   "mimetype": "text/x-python",
   "name": "python",
   "nbconvert_exporter": "python",
   "pygments_lexer": "ipython3",
   "version": "3.10.6"
  }
 },
 "nbformat": 4,
 "nbformat_minor": 2
}
